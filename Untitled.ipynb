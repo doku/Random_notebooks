{
 "cells": [
  {
   "cell_type": "code",
   "execution_count": 1,
   "metadata": {},
   "outputs": [
    {
     "name": "stderr",
     "output_type": "stream",
     "text": [
      "Registered S3 methods overwritten by 'ggplot2':\n",
      "  method         from \n",
      "  [.quosures     rlang\n",
      "  c.quosures     rlang\n",
      "  print.quosures rlang\n",
      "Registered S3 method overwritten by 'rvest':\n",
      "  method            from\n",
      "  read_xml.response xml2\n",
      "-- Attaching packages --------------------------------------- tidyverse 1.2.1 --\n",
      "v ggplot2 3.1.1       v purrr   0.3.2  \n",
      "v tibble  2.1.1       v dplyr   0.8.0.1\n",
      "v tidyr   0.8.3       v stringr 1.4.0  \n",
      "v readr   1.3.1       v forcats 0.4.0  \n",
      "-- Conflicts ------------------------------------------ tidyverse_conflicts() --\n",
      "x dplyr::filter() masks stats::filter()\n",
      "x dplyr::lag()    masks stats::lag()\n"
     ]
    }
   ],
   "source": [
    "library(tidyverse)"
   ]
  },
  {
   "cell_type": "code",
   "execution_count": 12,
   "metadata": {},
   "outputs": [
    {
     "name": "stderr",
     "output_type": "stream",
     "text": [
      "Parsed with column specification:\n",
      "cols(\n",
      "  `<U+8B49><U+5238><U+4EE3><U+865F>` = col_character(),\n",
      "  `<U+8B49><U+5238><U+540D><U+7A31>` = col_character(),\n",
      "  `<U+6210><U+4EA4><U+80A1><U+6578>` = col_double(),\n",
      "  `<U+6210><U+4EA4><U+91D1><U+984D>` = col_double(),\n",
      "  `<U+958B><U+76E4><U+50F9>` = col_double(),\n",
      "  `<U+6700><U+9AD8><U+50F9>` = col_double(),\n",
      "  `<U+6700><U+4F4E><U+50F9>` = col_double(),\n",
      "  `<U+6536><U+76E4><U+50F9>` = col_double(),\n",
      "  `<U+6F32><U+8DCC><U+50F9><U+5DEE>` = col_double(),\n",
      "  `<U+6210><U+4EA4><U+7B46><U+6578>` = col_double()\n",
      ")\n"
     ]
    }
   ],
   "source": [
    "stocks <- read_csv(\"STOCK_DAY_ALL_20201120.csv\",locale = locale(encoding = \"UTF-8\"))"
   ]
  },
  {
   "cell_type": "code",
   "execution_count": 18,
   "metadata": {},
   "outputs": [
    {
     "data": {
      "text/html": [
       "<ol class=list-inline>\n",
       "\t<li>'元大台灣50'</li>\n",
       "\t<li>'元大中型100'</li>\n",
       "\t<li>'富邦科技'</li>\n",
       "\t<li>'元大電子'</li>\n",
       "\t<li>'元大台商50'</li>\n",
       "\t<li>'元大MSCI金融'</li>\n",
       "\t<li>'元大高股息'</li>\n",
       "\t<li>'富邦摩台'</li>\n",
       "\t<li>'元大寶滬深'</li>\n",
       "\t<li>'元大MSCI台灣'</li>\n",
       "\t<li>'永豐臺灣加權'</li>\n",
       "\t<li>'富邦上証'</li>\n",
       "\t<li>'元大上證50'</li>\n",
       "\t<li>'FH滬深'</li>\n",
       "\t<li>'富邦台50'</li>\n",
       "\t<li>'富邦上証+R'</li>\n",
       "\t<li>'元大台灣50正2'</li>\n",
       "\t<li>'元大台灣50反1'</li>\n",
       "\t<li>'富邦上証正2'</li>\n",
       "\t<li>'富邦上証反1'</li>\n",
       "</ol>\n"
      ],
      "text/latex": [
       "\\begin{enumerate*}\n",
       "\\item '元大台灣50'\n",
       "\\item '元大中型100'\n",
       "\\item '富邦科技'\n",
       "\\item '元大電子'\n",
       "\\item '元大台商50'\n",
       "\\item '元大MSCI金融'\n",
       "\\item '元大高股息'\n",
       "\\item '富邦摩台'\n",
       "\\item '元大寶滬深'\n",
       "\\item '元大MSCI台灣'\n",
       "\\item '永豐臺灣加權'\n",
       "\\item '富邦上証'\n",
       "\\item '元大上證50'\n",
       "\\item 'FH滬深'\n",
       "\\item '富邦台50'\n",
       "\\item '富邦上証+R'\n",
       "\\item '元大台灣50正2'\n",
       "\\item '元大台灣50反1'\n",
       "\\item '富邦上証正2'\n",
       "\\item '富邦上証反1'\n",
       "\\end{enumerate*}\n"
      ],
      "text/markdown": [
       "1. '元大台灣50'\n",
       "2. '元大中型100'\n",
       "3. '富邦科技'\n",
       "4. '元大電子'\n",
       "5. '元大台商50'\n",
       "6. '元大MSCI金融'\n",
       "7. '元大高股息'\n",
       "8. '富邦摩台'\n",
       "9. '元大寶滬深'\n",
       "10. '元大MSCI台灣'\n",
       "11. '永豐臺灣加權'\n",
       "12. '富邦上証'\n",
       "13. '元大上證50'\n",
       "14. 'FH滬深'\n",
       "15. '富邦台50'\n",
       "16. '富邦上証+R'\n",
       "17. '元大台灣50正2'\n",
       "18. '元大台灣50反1'\n",
       "19. '富邦上証正2'\n",
       "20. '富邦上証反1'\n",
       "\n",
       "\n"
      ],
      "text/plain": [
       " [1] \"<U+5143><U+5927><U+53F0><U+7063>50\" \"<U+5143><U+5927><U+4E2D><U+578B>100\" \"<U+5BCC><U+90A6><U+79D1><U+6280>\" \"<U+5143><U+5927><U+96FB><U+5B50>\"\n",
       " [5] \"<U+5143><U+5927><U+53F0><U+5546>50\" \"<U+5143><U+5927>MSCI<U+91D1><U+878D>\" \"<U+5143><U+5927><U+9AD8><U+80A1><U+606F>\" \"<U+5BCC><U+90A6><U+6469><U+53F0>\"\n",
       " [9] \"<U+5143><U+5927><U+5BF6><U+6EEC><U+6DF1>\" \"<U+5143><U+5927>MSCI<U+53F0><U+7063>\" \"<U+6C38><U+8C50><U+81FA><U+7063><U+52A0><U+6B0A>\" \"<U+5BCC><U+90A6><U+4E0A><U+8A3C>\"\n",
       "[13] \"<U+5143><U+5927><U+4E0A><U+8B49>50\" \"FH<U+6EEC><U+6DF1>\" \"<U+5BCC><U+90A6><U+53F0>50\" \"<U+5BCC><U+90A6><U+4E0A><U+8A3C>+R\"\n",
       "[17] \"<U+5143><U+5927><U+53F0><U+7063>50<U+6B63>2\" \"<U+5143><U+5927><U+53F0><U+7063>50<U+53CD>1\" \"<U+5BCC><U+90A6><U+4E0A><U+8A3C><U+6B63>2\" \"<U+5BCC><U+90A6><U+4E0A><U+8A3C><U+53CD>1\""
      ]
     },
     "metadata": {},
     "output_type": "display_data"
    },
    {
     "data": {
      "text/html": [
       "<table>\n",
       "<thead><tr><th scope=col>證券代號</th><th scope=col>證券名稱</th><th scope=col>成交股數</th><th scope=col>成交金額</th><th scope=col>開盤價</th><th scope=col>最高價</th><th scope=col>最低價</th><th scope=col>收盤價</th><th scope=col>漲跌價差</th><th scope=col>成交筆數</th></tr></thead>\n",
       "<tbody>\n",
       "\t<tr><td>0050                                                                                                </td><td><span style=white-space:pre-wrap>&lt;U+5143&gt;&lt;U+5927&gt;&lt;U+53F0&gt;&lt;U+7063&gt;50  </span></td><td>4800675                                                                                             </td><td>546485967                                                                                           </td><td>114.15                                                                                              </td><td>114.15                                                                                              </td><td>113.35                                                                                              </td><td>114.00                                                                                              </td><td>-0.15                                                                                               </td><td>3751                                                                                                </td></tr>\n",
       "\t<tr><td>0051                                                        </td><td>&lt;U+5143&gt;&lt;U+5927&gt;&lt;U+4E2D&gt;&lt;U+578B&gt;100 </td><td><span style=white-space:pre-wrap>  65245</span>             </td><td><span style=white-space:pre-wrap>  2633376</span>           </td><td> 40.39                                                      </td><td> 40.42                                                      </td><td> 40.24                                                      </td><td> 40.38                                                      </td><td> 0.00                                                       </td><td><span style=white-space:pre-wrap>  42</span>                </td></tr>\n",
       "\t<tr><td>0052                                                                                                </td><td><span style=white-space:pre-wrap>&lt;U+5BCC&gt;&lt;U+90A6&gt;&lt;U+79D1&gt;&lt;U+6280&gt;    </span></td><td>1144797                                                                                             </td><td>115563910                                                                                           </td><td>100.65                                                                                              </td><td>101.05                                                                                              </td><td>100.10                                                                                              </td><td>100.90                                                                                              </td><td>-0.15                                                                                               </td><td> 340                                                                                                </td></tr>\n",
       "\t<tr><td>0053                                                                                                </td><td><span style=white-space:pre-wrap>&lt;U+5143&gt;&lt;U+5927&gt;&lt;U+96FB&gt;&lt;U+5B50&gt;    </span></td><td><span style=white-space:pre-wrap>  33294</span>                                                     </td><td><span style=white-space:pre-wrap>  1768840</span>                                                   </td><td> 53.10                                                                                              </td><td> 53.25                                                                                              </td><td> 53.05                                                                                              </td><td> 53.25                                                                                              </td><td> 0.00                                                                                               </td><td><span style=white-space:pre-wrap>  17</span>                                                        </td></tr>\n",
       "\t<tr><td>0054                                                                                                </td><td><span style=white-space:pre-wrap>&lt;U+5143&gt;&lt;U+5927&gt;&lt;U+53F0&gt;&lt;U+5546&gt;50  </span></td><td><span style=white-space:pre-wrap>  16107</span>                                                     </td><td><span style=white-space:pre-wrap>   422854</span>                                                   </td><td> 26.41                                                                                              </td><td> 26.41                                                                                              </td><td> 26.16                                                                                              </td><td> 26.16                                                                                              </td><td> 0.00                                                                                               </td><td><span style=white-space:pre-wrap>   7</span>                                                        </td></tr>\n",
       "\t<tr><td>0055                                                        </td><td>&lt;U+5143&gt;&lt;U+5927&gt;MSCI&lt;U+91D1&gt;&lt;U+878D&gt;</td><td> 283237                                                     </td><td><span style=white-space:pre-wrap>  5050703</span>           </td><td> 17.97                                                      </td><td> 17.97                                                      </td><td> 17.79                                                      </td><td> 17.81                                                      </td><td> 0.00                                                       </td><td> 148                                                        </td></tr>\n",
       "</tbody>\n",
       "</table>\n"
      ],
      "text/latex": [
       "\\begin{tabular}{r|llllllllll}\n",
       " 證券代號 & 證券名稱 & 成交股數 & 成交金額 & 開盤價 & 最高價 & 最低價 & 收盤價 & 漲跌價差 & 成交筆數\\\\\n",
       "\\hline\n",
       "\t 0050                                 & <U+5143><U+5927><U+53F0><U+7063>50   & 4800675                              & 546485967                            & 114.15                               & 114.15                               & 113.35                               & 114.00                               & -0.15                                & 3751                                \\\\\n",
       "\t 0051                                 & <U+5143><U+5927><U+4E2D><U+578B>100  &   65245                              &   2633376                            &  40.39                               &  40.42                               &  40.24                               &  40.38                               &  0.00                                &   42                                \\\\\n",
       "\t 0052                                 & <U+5BCC><U+90A6><U+79D1><U+6280>     & 1144797                              & 115563910                            & 100.65                               & 101.05                               & 100.10                               & 100.90                               & -0.15                                &  340                                \\\\\n",
       "\t 0053                                 & <U+5143><U+5927><U+96FB><U+5B50>     &   33294                              &   1768840                            &  53.10                               &  53.25                               &  53.05                               &  53.25                               &  0.00                                &   17                                \\\\\n",
       "\t 0054                                 & <U+5143><U+5927><U+53F0><U+5546>50   &   16107                              &    422854                            &  26.41                               &  26.41                               &  26.16                               &  26.16                               &  0.00                                &    7                                \\\\\n",
       "\t 0055                                 & <U+5143><U+5927>MSCI<U+91D1><U+878D> &  283237                              &   5050703                            &  17.97                               &  17.97                               &  17.79                               &  17.81                               &  0.00                                &  148                                \\\\\n",
       "\\end{tabular}\n"
      ],
      "text/markdown": [
       "\n",
       "| 證券代號 | 證券名稱 | 成交股數 | 成交金額 | 開盤價 | 最高價 | 最低價 | 收盤價 | 漲跌價差 | 成交筆數 |\n",
       "|---|---|---|---|---|---|---|---|---|---|\n",
       "| 0050                                 | <U+5143><U+5927><U+53F0><U+7063>50   | 4800675                              | 546485967                            | 114.15                               | 114.15                               | 113.35                               | 114.00                               | -0.15                                | 3751                                 |\n",
       "| 0051                                 | <U+5143><U+5927><U+4E2D><U+578B>100  |   65245                              |   2633376                            |  40.39                               |  40.42                               |  40.24                               |  40.38                               |  0.00                                |   42                                 |\n",
       "| 0052                                 | <U+5BCC><U+90A6><U+79D1><U+6280>     | 1144797                              | 115563910                            | 100.65                               | 101.05                               | 100.10                               | 100.90                               | -0.15                                |  340                                 |\n",
       "| 0053                                 | <U+5143><U+5927><U+96FB><U+5B50>     |   33294                              |   1768840                            |  53.10                               |  53.25                               |  53.05                               |  53.25                               |  0.00                                |   17                                 |\n",
       "| 0054                                 | <U+5143><U+5927><U+53F0><U+5546>50   |   16107                              |    422854                            |  26.41                               |  26.41                               |  26.16                               |  26.16                               |  0.00                                |    7                                 |\n",
       "| 0055                                 | <U+5143><U+5927>MSCI<U+91D1><U+878D> |  283237                              |   5050703                            |  17.97                               |  17.97                               |  17.79                               |  17.81                               |  0.00                                |  148                                 |\n",
       "\n"
      ],
      "text/plain": [
       "  <U+8B49><U+5238><U+4EE3><U+865F>                         <U+8B49><U+5238><U+540D><U+7A31>                            \n",
       "1 0050                             <U+5143><U+5927><U+53F0><U+7063>50  \n",
       "2 0051                             <U+5143><U+5927><U+4E2D><U+578B>100 \n",
       "3 0052                             <U+5BCC><U+90A6><U+79D1><U+6280>    \n",
       "4 0053                             <U+5143><U+5927><U+96FB><U+5B50>    \n",
       "5 0054                             <U+5143><U+5927><U+53F0><U+5546>50  \n",
       "6 0055                             <U+5143><U+5927>MSCI<U+91D1><U+878D>\n",
       "  <U+6210><U+4EA4><U+80A1><U+6578>                         <U+6210><U+4EA4><U+91D1><U+984D>                        \n",
       "1 4800675                          546485967                       \n",
       "2   65245                            2633376                       \n",
       "3 1144797                          115563910                       \n",
       "4   33294                            1768840                       \n",
       "5   16107                             422854                       \n",
       "6  283237                            5050703                       \n",
       "  <U+958B><U+76E4><U+50F9>                   <U+6700><U+9AD8><U+50F9>                   <U+6700><U+4F4E><U+50F9>                  \n",
       "1 114.15                   114.15                   113.35                  \n",
       "2  40.39                    40.42                    40.24                  \n",
       "3 100.65                   101.05                   100.10                  \n",
       "4  53.10                    53.25                    53.05                  \n",
       "5  26.41                    26.41                    26.16                  \n",
       "6  17.97                    17.97                    17.79                  \n",
       "  <U+6536><U+76E4><U+50F9>                   <U+6F32><U+8DCC><U+50F9><U+5DEE>                        \n",
       "1 114.00                   -0.15                           \n",
       "2  40.38                    0.00                           \n",
       "3 100.90                   -0.15                           \n",
       "4  53.25                    0.00                           \n",
       "5  26.16                    0.00                           \n",
       "6  17.81                    0.00                           \n",
       "  <U+6210><U+4EA4><U+7B46><U+6578>                        \n",
       "1 3751                            \n",
       "2   42                            \n",
       "3  340                            \n",
       "4   17                            \n",
       "5    7                            \n",
       "6  148                            "
      ]
     },
     "metadata": {},
     "output_type": "display_data"
    }
   ],
   "source": [
    "head(stocks[[2]], 20)\n",
    "head(stocks)"
   ]
  }
 ],
 "metadata": {
  "kernelspec": {
   "display_name": "R",
   "language": "R",
   "name": "ir"
  },
  "language_info": {
   "codemirror_mode": "r",
   "file_extension": ".r",
   "mimetype": "text/x-r-source",
   "name": "R",
   "pygments_lexer": "r",
   "version": "3.6.1"
  }
 },
 "nbformat": 4,
 "nbformat_minor": 4
}
